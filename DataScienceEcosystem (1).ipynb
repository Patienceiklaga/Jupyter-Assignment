{
 "cells": [
  {
   "cell_type": "markdown",
   "id": "ebf596e5-42a8-420f-a32f-9f7420e7d284",
   "metadata": {
    "tags": []
   },
   "source": [
    "# Data Science Tools and Ecosystem"
   ]
  },
  {
   "cell_type": "markdown",
   "id": "de7dfb64-9e53-408e-938d-1359c53275af",
   "metadata": {
    "tags": []
   },
   "source": [
    "## In this notebook, Data Science Tools and Ecosystem are summarized."
   ]
  },
  {
   "cell_type": "markdown",
   "id": "9747a387-241c-42c1-97b2-d2a7acf5014b",
   "metadata": {},
   "source": [
    "**Objectives:**\n",
    "* list popular languages for Data Science\n",
    "* List of some libraries, Datasets, APIs and models\n",
    "* Introduction to jupyter notebook\n",
    "* Jupyter Architecture\n",
    "* Introduction to Anaconda Jupyter environment\n",
    "* Cloud based jupyter environment\n",
    "* how to download and install Anaconda\n",
    "* Introduction to R and Rstudio\n",
    "* Introduction to Git/Github\n",
    "* Open source tools for datascience"
   ]
  },
  {
   "cell_type": "markdown",
   "id": "8d3d21a6-c4aa-4a48-8b70-5332c8b742a1",
   "metadata": {
    "tags": []
   },
   "source": [
    "### Some of the popular languages that Data Scientists use are:\n",
    "1. Python\n",
    "2. R\n",
    "3. SQL\n"
   ]
  },
  {
   "cell_type": "markdown",
   "id": "97212e04-e715-4988-9122-e7b52cabc43a",
   "metadata": {},
   "source": [
    "## Some of the commonly used libraries used by Data Scientists include:\n",
    "1. ggplot2\n",
    "2. Lattice\n",
    "3. matplotlib\n",
    "4. Numpy\n",
    "5. Plotly\n",
    "6. Panda\n"
   ]
  },
  {
   "cell_type": "markdown",
   "id": "a40f053b-064a-4d4a-8b43-db7adb34944e",
   "metadata": {},
   "source": [
    "|Data Science Tools|\n",
    "|------------------|\n",
    "|RStudio|\n",
    "|Tensorflow|\n",
    "|Apache Hadoop|\n",
    "\n"
   ]
  },
  {
   "cell_type": "markdown",
   "id": "e211de71-d138-47c9-bb7c-62d80e568aef",
   "metadata": {},
   "source": [
    "### Below are a few examples of evaluating arithmetic expressions in Python"
   ]
  },
  {
   "cell_type": "code",
   "execution_count": 2,
   "id": "88da3a8c-b124-4c2d-b9d0-a6dc6bf65fb3",
   "metadata": {
    "tags": []
   },
   "outputs": [
    {
     "data": {
      "text/plain": [
       "17"
      ]
     },
     "execution_count": 2,
     "metadata": {},
     "output_type": "execute_result"
    }
   ],
   "source": [
    "# This a simple arithmetic expression to mutiply then add integers\n",
    "(3*4)+5"
   ]
  },
  {
   "cell_type": "code",
   "execution_count": 7,
   "id": "138166b4-c8fc-4539-a0e4-95e27feda3f5",
   "metadata": {
    "tags": []
   },
   "outputs": [
    {
     "name": "stdout",
     "output_type": "stream",
     "text": [
      "3\n"
     ]
    }
   ],
   "source": [
    "# This will convert 200 minutes to hours by diving by 60\n",
    "minutes = 200\n",
    "hours = minutes//60\n",
    "print(hours)"
   ]
  },
  {
   "cell_type": "markdown",
   "id": "87b08207-df29-42cc-b79f-3a24aebc6dec",
   "metadata": {},
   "source": [
    "## Author\n",
    "IKLAGA PATIENCE ADAH"
   ]
  },
  {
   "cell_type": "code",
   "execution_count": null,
   "id": "33b4cdf6-8e71-4491-896c-72539c5548cd",
   "metadata": {},
   "outputs": [],
   "source": []
  }
 ],
 "metadata": {
  "kernelspec": {
   "display_name": "Python",
   "language": "python",
   "name": "conda-env-python-py"
  },
  "language_info": {
   "codemirror_mode": {
    "name": "ipython",
    "version": 3
   },
   "file_extension": ".py",
   "mimetype": "text/x-python",
   "name": "python",
   "nbconvert_exporter": "python",
   "pygments_lexer": "ipython3",
   "version": "3.7.12"
  }
 },
 "nbformat": 4,
 "nbformat_minor": 5
}
